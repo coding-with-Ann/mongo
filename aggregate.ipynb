{
 "cells": [
  {
   "cell_type": "markdown",
   "metadata": {},
   "source": [
    "## Mongodb Aggregate and group\n",
    "1. avg\n",
    "2. sum\n",
    "3. project\n"
   ]
  },
  {
   "cell_type": "code",
   "execution_count": 2,
   "metadata": {},
   "outputs": [],
   "source": [
    "import pymongo\n",
    "client = pymongo.MongoClient('mongodb://localhost:27017')\n",
    "db=client['students']\n",
    "studentscores = db['studentscores'] #we can use db.studentscores also to create collection"
   ]
  },
  {
   "cell_type": "code",
   "execution_count": 4,
   "metadata": {},
   "outputs": [
    {
     "data": {
      "text/plain": [
       "InsertManyResult([ObjectId('65fb0852d85d012824fdfa89'), ObjectId('65fb0852d85d012824fdfa8a'), ObjectId('65fb0852d85d012824fdfa8b'), ObjectId('65fb0852d85d012824fdfa8c'), ObjectId('65fb0852d85d012824fdfa8d'), ObjectId('65fb0852d85d012824fdfa8e')], acknowledged=True)"
      ]
     },
     "execution_count": 4,
     "metadata": {},
     "output_type": "execute_result"
    }
   ],
   "source": [
    "data = [\n",
    "    {\"user\":\"Ben\", \"subject\":\"Database\", \"score\":80}, \n",
    "    {\"user\":\"Stark\",  \"subject\":\"JavaScript\", \"score\":90}, \n",
    "    {\"user\":\"Stark\",  \"title\":\"Database\", \"score\":85}, \n",
    "    {\"user\":\"Ben\",  \"title\":\"JavaScript\", \"score\":75}, \n",
    "    {\"user\":\"Stark\",  \"title\":\"Data Science\", \"score\":60},\n",
    "    {\"user\":\"Ben\",  \"title\":\"Data Science\", \"score\":95}\n",
    "]\n",
    "studentscores.insert_many(data)"
   ]
  },
  {
   "cell_type": "code",
   "execution_count": 15,
   "metadata": {},
   "outputs": [
    {
     "name": "stdout",
     "output_type": "stream",
     "text": [
      "{'_id': 'Stark', 'total subjects': 3}\n",
      "{'_id': 'Ben', 'total subjects': 3}\n"
     ]
    }
   ],
   "source": [
    "#find total no of subjects\n",
    "result = studentscores.aggregate([{\n",
    "    '$group': {'_id':'$user',              #using $user because its a field not string\n",
    "    'total subjects':{'$sum':1}} # for every user incrementing sum by 1, total subjects is the new group name\n",
    "    #[] is for using multiple operations, its for pipelining\n",
    "}])\n",
    "\n",
    "for i in result:\n",
    "    print(i)"
   ]
  },
  {
   "cell_type": "code",
   "execution_count": 20,
   "metadata": {},
   "outputs": [
    {
     "name": "stdout",
     "output_type": "stream",
     "text": [
      "{'_id': 'Stark', 'Total score': 235}\n",
      "{'_id': 'Ben', 'Total score': 250}\n"
     ]
    }
   ],
   "source": [
    "#calculate the total score of users\n",
    "score_result = studentscores.aggregate([{\n",
    "    '$group': {'_id': '$user',\n",
    "               'Total score': {'$sum':'$score'}}\n",
    "}])\n",
    "for i in score_result:\n",
    "    print(i)"
   ]
  },
  {
   "cell_type": "code",
   "execution_count": 22,
   "metadata": {},
   "outputs": [
    {
     "name": "stdout",
     "output_type": "stream",
     "text": [
      "{'_id': 'Stark', 'Average score': 78.33333333333333}\n",
      "{'_id': 'Ben', 'Average score': 83.33333333333333}\n"
     ]
    }
   ],
   "source": [
    "#calulate the average based on user\n",
    "average = studentscores.aggregate([{\n",
    "    '$group': {'_id':'$user',\n",
    "               'Average score': {'$avg': '$score'}}\n",
    "}])\n",
    "\n",
    "for i in average:\n",
    "    print(i)"
   ]
  },
  {
   "cell_type": "code",
   "execution_count": 29,
   "metadata": {},
   "outputs": [],
   "source": [
    "#creating new collection\n",
    "import datetime\n",
    "data = [{\"_id\" : 1, \"item\" : \"abc\", \"price\" : 10, \"quantity\" : 2, \"date\" : datetime.datetime.now(datetime.UTC)},\n",
    "{ \"_id\" : 2, \"item\" : \"jkl\", \"price\" : 20, \"quantity\" : 1, \"date\" : datetime.datetime.now(datetime.UTC) },\n",
    "{ \"_id\" : 3, \"item\" : \"xyz\", \"price\" : 5, \"quantity\" : 5, \"date\" : datetime.datetime.now(datetime.UTC) },\n",
    "{ \"_id\" : 4, \"item\" : \"abc\", \"price\" : 10, \"quantity\" : 10, \"date\" : datetime.datetime.now(datetime.UTC) },\n",
    "{ \"_id\" : 5, \"item\" : \"xyz\", \"price\" : 5, \"quantity\" : 10, \"date\" :datetime.datetime.now(datetime.UTC)}]\n"
   ]
  },
  {
   "cell_type": "code",
   "execution_count": 35,
   "metadata": {},
   "outputs": [
    {
     "data": {
      "text/plain": [
       "InsertManyResult([1, 2, 3, 4, 5], acknowledged=True)"
      ]
     },
     "execution_count": 35,
     "metadata": {},
     "output_type": "execute_result"
    }
   ],
   "source": [
    "storecollection = db.stores\n",
    "storecollection.insert_many(data)"
   ]
  },
  {
   "cell_type": "code",
   "execution_count": 48,
   "metadata": {},
   "outputs": [
    {
     "name": "stdout",
     "output_type": "stream",
     "text": [
      "{'_id': 'abc', 'avgAmount': 60.0, 'avgQuantity': 6.0}\n",
      "{'_id': 'jkl', 'avgAmount': 20.0, 'avgQuantity': 1.0}\n",
      "{'_id': 'xyz', 'avgAmount': 37.5, 'avgQuantity': 7.5}\n"
     ]
    }
   ],
   "source": [
    "agg_result=storecollection.aggregate([\n",
    "   {\n",
    "      \"$group\": {\n",
    "          \"_id\": '$item',\n",
    "         \"avgAmount\": {\"$avg\": {\"$multiply\": [ \"$price\", \"$quantity\" ]}},\n",
    "          \"avgQuantity\": { \"$avg\": \"$quantity\" }\n",
    "      }\n",
    "   }\n",
    "])\n",
    "\n",
    "for i in agg_result:\n",
    "    print(i)"
   ]
  },
  {
   "cell_type": "code",
   "execution_count": 50,
   "metadata": {},
   "outputs": [],
   "source": [
    "## $Project\n",
    "##its like < select column1, column2 from tablename >\n",
    "##used to select fields\n",
    "\n",
    "data=[{\n",
    "  \"_id\" : 1,\n",
    "  \"title\": \"abc123\",\n",
    "  \"isbn\": \"0001122223334\",\n",
    "  \"author\": { \"last\": \"zzz\", \"first\": \"aaa\" },\n",
    "  \"copies\": 5\n",
    "},\n",
    "{\n",
    "  \"_id\" : 2,\n",
    "  \"title\": \"Baked Goods\",\n",
    "  \"isbn\": \"9999999999999\",\n",
    "  \"author\": { \"last\": \"xyz\", \"first\": \"abc\", \"middle\": \"\" },\n",
    "  \"copies\": 2\n",
    "}\n",
    "]"
   ]
  },
  {
   "cell_type": "code",
   "execution_count": 51,
   "metadata": {},
   "outputs": [],
   "source": [
    "bookscollection = db['books']"
   ]
  },
  {
   "cell_type": "code",
   "execution_count": 52,
   "metadata": {},
   "outputs": [
    {
     "data": {
      "text/plain": [
       "InsertManyResult([1, 2], acknowledged=True)"
      ]
     },
     "execution_count": 52,
     "metadata": {},
     "output_type": "execute_result"
    }
   ],
   "source": [
    "bookscollection.insert_many(data)"
   ]
  },
  {
   "cell_type": "code",
   "execution_count": 58,
   "metadata": {},
   "outputs": [
    {
     "name": "stdout",
     "output_type": "stream",
     "text": [
      "{'_id': 1, 'title': 'abc123', 'isbn': '0001122223334'}\n",
      "{'_id': 2, 'title': 'Baked Goods', 'isbn': '9999999999999'}\n"
     ]
    }
   ],
   "source": [
    "result = bookscollection.aggregate([\n",
    "    {\n",
    "        '$project':\n",
    "        {'title':1,'isbn':1}\n",
    "    }\n",
    "])\n",
    "\n",
    "for i in result: \n",
    "    print(i)"
   ]
  },
  {
   "cell_type": "code",
   "execution_count": null,
   "metadata": {},
   "outputs": [],
   "source": []
  }
 ],
 "metadata": {
  "kernelspec": {
   "display_name": "Python 3",
   "language": "python",
   "name": "python3"
  },
  "language_info": {
   "codemirror_mode": {
    "name": "ipython",
    "version": 3
   },
   "file_extension": ".py",
   "mimetype": "text/x-python",
   "name": "python",
   "nbconvert_exporter": "python",
   "pygments_lexer": "ipython3",
   "version": "3.12.1"
  }
 },
 "nbformat": 4,
 "nbformat_minor": 2
}
