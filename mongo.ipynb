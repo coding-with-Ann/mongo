{
 "cells": [
  {
   "cell_type": "markdown",
   "metadata": {},
   "source": [
    "## Why mongodb\n",
    "- Mongodb is a no-sql db\n",
    "- In mysql the schema is very strict\n",
    "- In mongo schema is not strict its dynamic. Its not strict because the data is stored in the form of json.\n",
    "- because of this json format, the retrival of data becomes fast, so performance will be good.\n",
    "- mongo is scalable\n",
    "\n",
    "- If lot of transactions need to happen(like in banking sector) then dont use mongodb\n",
    "- In simple words if we want a strict schema its better to use RDBMS like mysql"
   ]
  },
  {
   "cell_type": "code",
   "execution_count": 4,
   "metadata": {},
   "outputs": [],
   "source": [
    "#install pymongo module using \"pip install pymongo\"\n",
    "import pymongo   #importing pymongo module\n",
    "client = pymongo.MongoClient('mongodb://localhost:27017')  #connecting to client\n",
    "mydb = client['Employee']   #creating new database, can be seen only after inserting collections\n",
    "employeeInfo = mydb.employeeInformation #creating new collection"
   ]
  },
  {
   "cell_type": "code",
   "execution_count": 19,
   "metadata": {},
   "outputs": [
    {
     "data": {
      "text/plain": [
       "InsertManyResult([ObjectId('65fae72c066699bd2603f282'), ObjectId('65fae72c066699bd2603f283'), ObjectId('65fae72c066699bd2603f284')], acknowledged=True)"
      ]
     },
     "execution_count": 19,
     "metadata": {},
     "output_type": "execute_result"
    }
   ],
   "source": [
    "record = [{\n",
    "        'firstName':'Tony',\n",
    "        'lastName':'Stark',\n",
    "        'age':25,\n",
    "        'department':'AI',\n",
    "        'qualification':'Masters'\n",
    "    },\n",
    "    {\n",
    "        'firstName':'Ben',\n",
    "        'lastName':'Tennyson',\n",
    "        'age':22,\n",
    "        'department':'Alien Technology',\n",
    "        'qualification':'Graduation'\n",
    "    },\n",
    "    {\n",
    "        'firstName': 'Gwen',\n",
    "        'lastName': 'Tennyson',\n",
    "        'age':21,\n",
    "        'department': 'Research',\n",
    "        'qualification': 'Graduation'\n",
    "    }\n",
    "]  #new json record, using list to store multiple json records in same variable \n",
    "\n",
    "employeeInfo.insert_many(record) #inserting data into the collection\n",
    "# If we execute this again duplicate records will be created ****"
   ]
  },
  {
   "cell_type": "code",
   "execution_count": 8,
   "metadata": {},
   "outputs": [
    {
     "data": {
      "text/plain": [
       "{'_id': ObjectId('65fad1bbfdbb1a52ec87c55e'),\n",
       " 'firstName': 'Tony',\n",
       " 'lastName': 'Stark',\n",
       " 'department': 'AI'}"
      ]
     },
     "execution_count": 8,
     "metadata": {},
     "output_type": "execute_result"
    }
   ],
   "source": [
    "employeeInfo.find_one() #returns first record from the employeeInfo collection\n"
   ]
  },
  {
   "cell_type": "code",
   "execution_count": 12,
   "metadata": {},
   "outputs": [
    {
     "name": "stdout",
     "output_type": "stream",
     "text": [
      "{'_id': ObjectId('65fad1bbfdbb1a52ec87c55e'), 'firstName': 'Tony', 'lastName': 'Stark', 'department': 'AI'}\n",
      "{'_id': ObjectId('65fad1bbfdbb1a52ec87c55f'), 'firstName': 'Ben', 'lastName': 'Tennyson', 'department': 'wepons'}\n",
      "{'_id': ObjectId('65fad1bbfdbb1a52ec87c560'), 'firstName': 'Gwen', 'lastName': 'Tennyson', 'department': 'Research'}\n"
     ]
    }
   ],
   "source": [
    "for record in employeeInfo.find():\n",
    "    print(record)\n",
    "#returns all the records from the employeeInfo collection"
   ]
  },
  {
   "cell_type": "code",
   "execution_count": 13,
   "metadata": {},
   "outputs": [
    {
     "name": "stdout",
     "output_type": "stream",
     "text": [
      "{'_id': ObjectId('65fad1bbfdbb1a52ec87c55e'), 'firstName': 'Tony', 'lastName': 'Stark', 'department': 'AI'}\n"
     ]
    }
   ],
   "source": [
    "#query json document based on equality condition\n",
    "#select * from employeeInformation where firstName = 'Tony'\n",
    "for record in employeeInfo.find({'firstName':'Tony'}):\n",
    "    print(record)"
   ]
  },
  {
   "cell_type": "code",
   "execution_count": 20,
   "metadata": {},
   "outputs": [
    {
     "name": "stdout",
     "output_type": "stream",
     "text": [
      "{'_id': ObjectId('65fad7a5fdbb1a52ec87c562'), 'firstName': 'Tony', 'lastName': 'Stark', 'age': 25, 'department': 'AI'}\n",
      "{'_id': ObjectId('65fad7a5fdbb1a52ec87c564'), 'firstName': 'Gwen', 'lastName': 'Tennyson', 'age': 21, 'department': 'Research'}\n"
     ]
    }
   ],
   "source": [
    "#query documents using query operators ($in, $lt, $gt)\n",
    "# select * from employeeInfo where department = 'AI' or 'Research'\n",
    "\n",
    "for record in employeeInfo.find({'department':{'$in':['AI', 'Research']}}):\n",
    "    print(record)\n"
   ]
  },
  {
   "cell_type": "code",
   "execution_count": 10,
   "metadata": {},
   "outputs": [
    {
     "name": "stdout",
     "output_type": "stream",
     "text": [
      "{'_id': ObjectId('65fad7a5fdbb1a52ec87c564'), 'firstName': 'Gwen', 'lastName': 'Tennyson', 'age': 21, 'department': 'Research'}\n"
     ]
    }
   ],
   "source": [
    "# and, less than query\n",
    "# department is Research and age is less than 25\n",
    "for record in employeeInfo.find({'department':'Research', 'age':{'$lt':25}}):\n",
    "    print(record)"
   ]
  },
  {
   "cell_type": "code",
   "execution_count": 17,
   "metadata": {},
   "outputs": [
    {
     "name": "stdout",
     "output_type": "stream",
     "text": [
      "{'_id': ObjectId('65fad7a5fdbb1a52ec87c562'), 'firstName': 'Tony', 'lastName': 'Stark', 'age': 25, 'department': 'AI'}\n"
     ]
    }
   ],
   "source": [
    "# select record with age > 23\n",
    "for record in employeeInfo.find({'age':{'$gt':23}}):\n",
    "    print(record)"
   ]
  },
  {
   "cell_type": "code",
   "execution_count": 12,
   "metadata": {},
   "outputs": [
    {
     "name": "stdout",
     "output_type": "stream",
     "text": [
      "{'_id': ObjectId('65fad7a5fdbb1a52ec87c562'), 'firstName': 'Tony', 'lastName': 'Stark', 'age': 25, 'department': 'AI'}\n",
      "{'_id': ObjectId('65fad7a5fdbb1a52ec87c564'), 'firstName': 'Gwen', 'lastName': 'Tennyson', 'age': 21, 'department': 'Research'}\n"
     ]
    }
   ],
   "source": [
    "#or operation\n",
    "# select records with firstName gwen or Tony\n",
    "for record in employeeInfo.find({'$or':[{'firstName':'Gwen'},{'firstName':'Tony'}]}):\n",
    "    print(record)"
   ]
  },
  {
   "cell_type": "code",
   "execution_count": 20,
   "metadata": {},
   "outputs": [
    {
     "name": "stdout",
     "output_type": "stream",
     "text": [
      "{'_id': ObjectId('65fae72c066699bd2603f283'), 'firstName': 'Ben', 'lastName': 'Tennyson', 'age': 22, 'department': 'Alien Technology', 'qualification': 'Graduation'}\n"
     ]
    }
   ],
   "source": [
    "#and operation\n",
    "#select records with first name is ben and department is weapons\n",
    "for record in employeeInfo.find({'$and':[{'firstName':'Ben'},{'department':'Alien Technology'}] }):\n",
    "    print(record)"
   ]
  },
  {
   "cell_type": "code",
   "execution_count": 21,
   "metadata": {},
   "outputs": [],
   "source": [
    "#creating inventory collection\n",
    "inventory= mydb.inventory"
   ]
  },
  {
   "cell_type": "code",
   "execution_count": 22,
   "metadata": {},
   "outputs": [],
   "source": [
    "inventory.insert_many( [\n",
    "   { 'item': \"journal\", 'qty': 25, 'size': { 'h': 14, 'w': 21,'uom': \"cm\" }, 'status': \"A\" },\n",
    "   { 'item': \"notebook\", 'qty': 50,'size': { 'h': 8.5, 'w': 11,'uom': \"in\" },'status': \"A\" },\n",
    "   { 'item': \"paper\", 'qty': 100, 'size': { 'h': 8.5, 'w': 11,'uom': \"in\" },'status': \"D\" },\n",
    "   { 'item': \"planner\", 'qty': 75, 'size': { 'h': 22.85,'w': 30,'uom': \"cm\" },'status': \"D\" },\n",
    "   { 'item': \"postcard\", 'qty': 45, 'size': { 'h': 10, 'w': 15.25,'uom': \"cm\" },'status': \"A\" }\n",
    "]);"
   ]
  },
  {
   "cell_type": "code",
   "execution_count": 32,
   "metadata": {},
   "outputs": [
    {
     "name": "stdout",
     "output_type": "stream",
     "text": [
      "{'_id': ObjectId('65fae818066699bd2603f285'), 'item': 'journal', 'qty': 25, 'size': {'h': 14, 'w': 21, 'uom': 'cm'}, 'status': 'A'}\n"
     ]
    }
   ],
   "source": [
    "#extracting nexted data from json document\n",
    "for record in inventory.find({'size': { 'h': 14, 'w': 21,'uom': \"cm\" }}):\n",
    "    print(record)"
   ]
  }
 ],
 "metadata": {
  "kernelspec": {
   "display_name": "Python 3",
   "language": "python",
   "name": "python3"
  },
  "language_info": {
   "codemirror_mode": {
    "name": "ipython",
    "version": 3
   },
   "file_extension": ".py",
   "mimetype": "text/x-python",
   "name": "python",
   "nbconvert_exporter": "python",
   "pygments_lexer": "ipython3",
   "version": "3.12.1"
  }
 },
 "nbformat": 4,
 "nbformat_minor": 2
}
